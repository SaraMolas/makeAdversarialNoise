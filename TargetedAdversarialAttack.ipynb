{
 "cells": [
  {
   "cell_type": "code",
   "execution_count": null,
   "id": "c91d534e",
   "metadata": {},
   "outputs": [],
   "source": [
    "# Import libraries\n"
   ]
  },
  {
   "cell_type": "code",
   "execution_count": null,
   "id": "af674ea5",
   "metadata": {},
   "outputs": [],
   "source": [
    "# Specify user input \n"
   ]
  },
  {
   "cell_type": "code",
   "execution_count": null,
   "id": "22e94293",
   "metadata": {},
   "outputs": [],
   "source": [
    "# Set parameters\n"
   ]
  },
  {
   "cell_type": "code",
   "execution_count": null,
   "id": "814dc0e1",
   "metadata": {},
   "outputs": [],
   "source": [
    "# Create basic functions (plotting and class string to class id)\n"
   ]
  },
  {
   "cell_type": "code",
   "execution_count": null,
   "id": "54f9437d",
   "metadata": {},
   "outputs": [],
   "source": [
    "# Upload input image and apply transformations\n"
   ]
  },
  {
   "cell_type": "code",
   "execution_count": null,
   "id": "1e84dd99",
   "metadata": {},
   "outputs": [],
   "source": [
    "# Load model \n"
   ]
  },
  {
   "cell_type": "code",
   "execution_count": null,
   "id": "e75e46a8",
   "metadata": {},
   "outputs": [],
   "source": [
    "# Predict label of original image + plot\n"
   ]
  },
  {
   "cell_type": "code",
   "execution_count": null,
   "id": "d32d0a19",
   "metadata": {},
   "outputs": [],
   "source": [
    "# Perform adversarial attack and obtain modified image\n"
   ]
  },
  {
   "cell_type": "code",
   "execution_count": null,
   "id": "c9a934ef",
   "metadata": {},
   "outputs": [],
   "source": [
    "# Predict label of modified image + plot\n"
   ]
  },
  {
   "cell_type": "code",
   "execution_count": null,
   "id": "d75fd19e",
   "metadata": {},
   "outputs": [],
   "source": [
    "# Save modified image\n"
   ]
  }
 ],
 "metadata": {
  "kernelspec": {
   "display_name": "Python 3 (ipykernel)",
   "language": "python",
   "name": "python3"
  },
  "language_info": {
   "codemirror_mode": {
    "name": "ipython",
    "version": 3
   },
   "file_extension": ".py",
   "mimetype": "text/x-python",
   "name": "python",
   "nbconvert_exporter": "python",
   "pygments_lexer": "ipython3",
   "version": "3.7.6"
  }
 },
 "nbformat": 4,
 "nbformat_minor": 5
}
